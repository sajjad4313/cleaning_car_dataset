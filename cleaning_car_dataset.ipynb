{
 "cells": [
  {
   "cell_type": "code",
   "execution_count": 1,
   "id": "86b7bc28",
   "metadata": {},
   "outputs": [],
   "source": [
    "import numpy as np\n",
    "import pandas as pd\n",
    "import matplotlib.pyplot as plt\n",
    "get_ipython().run_line_magic('matplotlib', 'inline')\n",
    "\n",
    "import seaborn as sns\n"
   ]
  },
  {
   "cell_type": "code",
   "execution_count": 2,
   "id": "b11ab8b0",
   "metadata": {},
   "outputs": [
    {
     "data": {
      "text/html": [
       "<div>\n",
       "<style scoped>\n",
       "    .dataframe tbody tr th:only-of-type {\n",
       "        vertical-align: middle;\n",
       "    }\n",
       "\n",
       "    .dataframe tbody tr th {\n",
       "        vertical-align: top;\n",
       "    }\n",
       "\n",
       "    .dataframe thead th {\n",
       "        text-align: right;\n",
       "    }\n",
       "</style>\n",
       "<table border=\"1\" class=\"dataframe\">\n",
       "  <thead>\n",
       "    <tr style=\"text-align: right;\">\n",
       "      <th></th>\n",
       "      <th>Make</th>\n",
       "      <th>Model</th>\n",
       "      <th>Year</th>\n",
       "      <th>Engine Fuel Type</th>\n",
       "      <th>Engine HP</th>\n",
       "      <th>Engine Cylinders</th>\n",
       "      <th>Transmission Type</th>\n",
       "      <th>Driven_Wheels</th>\n",
       "      <th>Number of Doors</th>\n",
       "      <th>Market Category</th>\n",
       "      <th>Vehicle Size</th>\n",
       "      <th>Vehicle Style</th>\n",
       "      <th>highway MPG</th>\n",
       "      <th>city mpg</th>\n",
       "      <th>Popularity</th>\n",
       "      <th>MSRP</th>\n",
       "    </tr>\n",
       "  </thead>\n",
       "  <tbody>\n",
       "    <tr>\n",
       "      <th>0</th>\n",
       "      <td>BMW</td>\n",
       "      <td>1 Series M</td>\n",
       "      <td>2011</td>\n",
       "      <td>premium unleaded (required)</td>\n",
       "      <td>335.0</td>\n",
       "      <td>6.0</td>\n",
       "      <td>MANUAL</td>\n",
       "      <td>rear wheel drive</td>\n",
       "      <td>2.0</td>\n",
       "      <td>Factory Tuner,Luxury,High-Performance</td>\n",
       "      <td>Compact</td>\n",
       "      <td>Coupe</td>\n",
       "      <td>26</td>\n",
       "      <td>19</td>\n",
       "      <td>3916</td>\n",
       "      <td>46135</td>\n",
       "    </tr>\n",
       "    <tr>\n",
       "      <th>1</th>\n",
       "      <td>BMW</td>\n",
       "      <td>1 Series</td>\n",
       "      <td>2011</td>\n",
       "      <td>premium unleaded (required)</td>\n",
       "      <td>300.0</td>\n",
       "      <td>6.0</td>\n",
       "      <td>MANUAL</td>\n",
       "      <td>rear wheel drive</td>\n",
       "      <td>2.0</td>\n",
       "      <td>Luxury,Performance</td>\n",
       "      <td>Compact</td>\n",
       "      <td>Convertible</td>\n",
       "      <td>28</td>\n",
       "      <td>19</td>\n",
       "      <td>3916</td>\n",
       "      <td>40650</td>\n",
       "    </tr>\n",
       "    <tr>\n",
       "      <th>2</th>\n",
       "      <td>BMW</td>\n",
       "      <td>1 Series</td>\n",
       "      <td>2011</td>\n",
       "      <td>premium unleaded (required)</td>\n",
       "      <td>300.0</td>\n",
       "      <td>6.0</td>\n",
       "      <td>MANUAL</td>\n",
       "      <td>rear wheel drive</td>\n",
       "      <td>2.0</td>\n",
       "      <td>Luxury,High-Performance</td>\n",
       "      <td>Compact</td>\n",
       "      <td>Coupe</td>\n",
       "      <td>28</td>\n",
       "      <td>20</td>\n",
       "      <td>3916</td>\n",
       "      <td>36350</td>\n",
       "    </tr>\n",
       "    <tr>\n",
       "      <th>3</th>\n",
       "      <td>BMW</td>\n",
       "      <td>1 Series</td>\n",
       "      <td>2011</td>\n",
       "      <td>premium unleaded (required)</td>\n",
       "      <td>230.0</td>\n",
       "      <td>6.0</td>\n",
       "      <td>MANUAL</td>\n",
       "      <td>rear wheel drive</td>\n",
       "      <td>2.0</td>\n",
       "      <td>Luxury,Performance</td>\n",
       "      <td>Compact</td>\n",
       "      <td>Coupe</td>\n",
       "      <td>28</td>\n",
       "      <td>18</td>\n",
       "      <td>3916</td>\n",
       "      <td>29450</td>\n",
       "    </tr>\n",
       "    <tr>\n",
       "      <th>4</th>\n",
       "      <td>BMW</td>\n",
       "      <td>1 Series</td>\n",
       "      <td>2011</td>\n",
       "      <td>premium unleaded (required)</td>\n",
       "      <td>230.0</td>\n",
       "      <td>6.0</td>\n",
       "      <td>MANUAL</td>\n",
       "      <td>rear wheel drive</td>\n",
       "      <td>2.0</td>\n",
       "      <td>Luxury</td>\n",
       "      <td>Compact</td>\n",
       "      <td>Convertible</td>\n",
       "      <td>28</td>\n",
       "      <td>18</td>\n",
       "      <td>3916</td>\n",
       "      <td>34500</td>\n",
       "    </tr>\n",
       "  </tbody>\n",
       "</table>\n",
       "</div>"
      ],
      "text/plain": [
       "  Make       Model  Year             Engine Fuel Type  Engine HP  \\\n",
       "0  BMW  1 Series M  2011  premium unleaded (required)      335.0   \n",
       "1  BMW    1 Series  2011  premium unleaded (required)      300.0   \n",
       "2  BMW    1 Series  2011  premium unleaded (required)      300.0   \n",
       "3  BMW    1 Series  2011  premium unleaded (required)      230.0   \n",
       "4  BMW    1 Series  2011  premium unleaded (required)      230.0   \n",
       "\n",
       "   Engine Cylinders Transmission Type     Driven_Wheels  Number of Doors  \\\n",
       "0               6.0            MANUAL  rear wheel drive              2.0   \n",
       "1               6.0            MANUAL  rear wheel drive              2.0   \n",
       "2               6.0            MANUAL  rear wheel drive              2.0   \n",
       "3               6.0            MANUAL  rear wheel drive              2.0   \n",
       "4               6.0            MANUAL  rear wheel drive              2.0   \n",
       "\n",
       "                         Market Category Vehicle Size Vehicle Style  \\\n",
       "0  Factory Tuner,Luxury,High-Performance      Compact         Coupe   \n",
       "1                     Luxury,Performance      Compact   Convertible   \n",
       "2                Luxury,High-Performance      Compact         Coupe   \n",
       "3                     Luxury,Performance      Compact         Coupe   \n",
       "4                                 Luxury      Compact   Convertible   \n",
       "\n",
       "   highway MPG  city mpg  Popularity   MSRP  \n",
       "0           26        19        3916  46135  \n",
       "1           28        19        3916  40650  \n",
       "2           28        20        3916  36350  \n",
       "3           28        18        3916  29450  \n",
       "4           28        18        3916  34500  "
      ]
     },
     "execution_count": 2,
     "metadata": {},
     "output_type": "execute_result"
    }
   ],
   "source": [
    "df=pd.read_csv('data.csv')\n",
    "df.head()"
   ]
  },
  {
   "cell_type": "code",
   "execution_count": 3,
   "id": "2865929e",
   "metadata": {},
   "outputs": [
    {
     "name": "stdout",
     "output_type": "stream",
     "text": [
      "<class 'pandas.core.frame.DataFrame'>\n",
      "RangeIndex: 11914 entries, 0 to 11913\n",
      "Data columns (total 16 columns):\n",
      " #   Column             Non-Null Count  Dtype  \n",
      "---  ------             --------------  -----  \n",
      " 0   Make               11914 non-null  object \n",
      " 1   Model              11914 non-null  object \n",
      " 2   Year               11914 non-null  int64  \n",
      " 3   Engine Fuel Type   11911 non-null  object \n",
      " 4   Engine HP          11845 non-null  float64\n",
      " 5   Engine Cylinders   11884 non-null  float64\n",
      " 6   Transmission Type  11914 non-null  object \n",
      " 7   Driven_Wheels      11914 non-null  object \n",
      " 8   Number of Doors    11908 non-null  float64\n",
      " 9   Market Category    8172 non-null   object \n",
      " 10  Vehicle Size       11914 non-null  object \n",
      " 11  Vehicle Style      11914 non-null  object \n",
      " 12  highway MPG        11914 non-null  int64  \n",
      " 13  city mpg           11914 non-null  int64  \n",
      " 14  Popularity         11914 non-null  int64  \n",
      " 15  MSRP               11914 non-null  int64  \n",
      "dtypes: float64(3), int64(5), object(8)\n",
      "memory usage: 1.5+ MB\n"
     ]
    }
   ],
   "source": [
    "df.info()"
   ]
  },
  {
   "cell_type": "code",
   "execution_count": 4,
   "id": "e964896b",
   "metadata": {
    "scrolled": true
   },
   "outputs": [
    {
     "data": {
      "text/plain": [
       "Make                    0\n",
       "Model                   0\n",
       "Year                    0\n",
       "Engine Fuel Type        3\n",
       "Engine HP              69\n",
       "Engine Cylinders       30\n",
       "Transmission Type       0\n",
       "Driven_Wheels           0\n",
       "Number of Doors         6\n",
       "Market Category      3742\n",
       "Vehicle Size            0\n",
       "Vehicle Style           0\n",
       "highway MPG             0\n",
       "city mpg                0\n",
       "Popularity              0\n",
       "MSRP                    0\n",
       "dtype: int64"
      ]
     },
     "execution_count": 4,
     "metadata": {},
     "output_type": "execute_result"
    }
   ],
   "source": [
    "df.isnull().sum()"
   ]
  },
  {
   "cell_type": "markdown",
   "id": "40113094",
   "metadata": {},
   "source": [
    "# we can drop the null values as its not as much (just market catogory has 3742 we can also replace it by mode but here we drop it) "
   ]
  },
  {
   "cell_type": "code",
   "execution_count": 5,
   "id": "e994af81",
   "metadata": {},
   "outputs": [
    {
     "data": {
      "text/plain": [
       "(11914, 16)"
      ]
     },
     "execution_count": 5,
     "metadata": {},
     "output_type": "execute_result"
    }
   ],
   "source": [
    "df.shape"
   ]
  },
  {
   "cell_type": "code",
   "execution_count": 6,
   "id": "e614245d",
   "metadata": {},
   "outputs": [
    {
     "data": {
      "text/plain": [
       "array(['Factory Tuner,Luxury,High-Performance', 'Luxury,Performance',\n",
       "       'Luxury,High-Performance', ..., 'Crossover,Hatchback,Luxury',\n",
       "       'Crossover,Hatchback,Luxury', 'Luxury'], dtype=object)"
      ]
     },
     "execution_count": 6,
     "metadata": {},
     "output_type": "execute_result"
    }
   ],
   "source": [
    "df['Market Category'].values"
   ]
  },
  {
   "cell_type": "code",
   "execution_count": 7,
   "id": "89d4aa96",
   "metadata": {},
   "outputs": [
    {
     "data": {
      "text/html": [
       "<div>\n",
       "<style scoped>\n",
       "    .dataframe tbody tr th:only-of-type {\n",
       "        vertical-align: middle;\n",
       "    }\n",
       "\n",
       "    .dataframe tbody tr th {\n",
       "        vertical-align: top;\n",
       "    }\n",
       "\n",
       "    .dataframe thead th {\n",
       "        text-align: right;\n",
       "    }\n",
       "</style>\n",
       "<table border=\"1\" class=\"dataframe\">\n",
       "  <thead>\n",
       "    <tr style=\"text-align: right;\">\n",
       "      <th></th>\n",
       "      <th>Make</th>\n",
       "      <th>Model</th>\n",
       "      <th>Year</th>\n",
       "      <th>Engine Fuel Type</th>\n",
       "      <th>Engine HP</th>\n",
       "      <th>Engine Cylinders</th>\n",
       "      <th>Transmission Type</th>\n",
       "      <th>Driven_Wheels</th>\n",
       "      <th>Number of Doors</th>\n",
       "      <th>Market Category</th>\n",
       "      <th>Vehicle Size</th>\n",
       "      <th>Vehicle Style</th>\n",
       "      <th>highway MPG</th>\n",
       "      <th>city mpg</th>\n",
       "      <th>Popularity</th>\n",
       "      <th>MSRP</th>\n",
       "    </tr>\n",
       "  </thead>\n",
       "  <tbody>\n",
       "    <tr>\n",
       "      <th>7119</th>\n",
       "      <td>NaN</td>\n",
       "      <td>NaN</td>\n",
       "      <td>NaN</td>\n",
       "      <td>NaN</td>\n",
       "      <td>NaN</td>\n",
       "      <td>NaN</td>\n",
       "      <td>NaN</td>\n",
       "      <td>NaN</td>\n",
       "      <td>NaN</td>\n",
       "      <td>NaN</td>\n",
       "      <td>NaN</td>\n",
       "      <td>NaN</td>\n",
       "      <td>NaN</td>\n",
       "      <td>NaN</td>\n",
       "      <td>NaN</td>\n",
       "      <td>NaN</td>\n",
       "    </tr>\n",
       "    <tr>\n",
       "      <th>1947</th>\n",
       "      <td>NaN</td>\n",
       "      <td>NaN</td>\n",
       "      <td>NaN</td>\n",
       "      <td>NaN</td>\n",
       "      <td>NaN</td>\n",
       "      <td>NaN</td>\n",
       "      <td>NaN</td>\n",
       "      <td>NaN</td>\n",
       "      <td>NaN</td>\n",
       "      <td>NaN</td>\n",
       "      <td>NaN</td>\n",
       "      <td>NaN</td>\n",
       "      <td>NaN</td>\n",
       "      <td>NaN</td>\n",
       "      <td>NaN</td>\n",
       "      <td>NaN</td>\n",
       "    </tr>\n",
       "    <tr>\n",
       "      <th>7074</th>\n",
       "      <td>NaN</td>\n",
       "      <td>NaN</td>\n",
       "      <td>NaN</td>\n",
       "      <td>NaN</td>\n",
       "      <td>NaN</td>\n",
       "      <td>NaN</td>\n",
       "      <td>NaN</td>\n",
       "      <td>NaN</td>\n",
       "      <td>NaN</td>\n",
       "      <td>NaN</td>\n",
       "      <td>NaN</td>\n",
       "      <td>NaN</td>\n",
       "      <td>NaN</td>\n",
       "      <td>NaN</td>\n",
       "      <td>NaN</td>\n",
       "      <td>NaN</td>\n",
       "    </tr>\n",
       "    <tr>\n",
       "      <th>10114</th>\n",
       "      <td>NaN</td>\n",
       "      <td>NaN</td>\n",
       "      <td>NaN</td>\n",
       "      <td>NaN</td>\n",
       "      <td>NaN</td>\n",
       "      <td>NaN</td>\n",
       "      <td>NaN</td>\n",
       "      <td>NaN</td>\n",
       "      <td>NaN</td>\n",
       "      <td>NaN</td>\n",
       "      <td>NaN</td>\n",
       "      <td>NaN</td>\n",
       "      <td>NaN</td>\n",
       "      <td>NaN</td>\n",
       "      <td>NaN</td>\n",
       "      <td>NaN</td>\n",
       "    </tr>\n",
       "    <tr>\n",
       "      <th>11145</th>\n",
       "      <td>NaN</td>\n",
       "      <td>NaN</td>\n",
       "      <td>NaN</td>\n",
       "      <td>NaN</td>\n",
       "      <td>NaN</td>\n",
       "      <td>NaN</td>\n",
       "      <td>NaN</td>\n",
       "      <td>NaN</td>\n",
       "      <td>NaN</td>\n",
       "      <td>NaN</td>\n",
       "      <td>NaN</td>\n",
       "      <td>NaN</td>\n",
       "      <td>NaN</td>\n",
       "      <td>NaN</td>\n",
       "      <td>NaN</td>\n",
       "      <td>NaN</td>\n",
       "    </tr>\n",
       "    <tr>\n",
       "      <th>7671</th>\n",
       "      <td>NaN</td>\n",
       "      <td>NaN</td>\n",
       "      <td>NaN</td>\n",
       "      <td>NaN</td>\n",
       "      <td>NaN</td>\n",
       "      <td>NaN</td>\n",
       "      <td>NaN</td>\n",
       "      <td>NaN</td>\n",
       "      <td>NaN</td>\n",
       "      <td>NaN</td>\n",
       "      <td>NaN</td>\n",
       "      <td>NaN</td>\n",
       "      <td>NaN</td>\n",
       "      <td>NaN</td>\n",
       "      <td>NaN</td>\n",
       "      <td>NaN</td>\n",
       "    </tr>\n",
       "    <tr>\n",
       "      <th>5312</th>\n",
       "      <td>NaN</td>\n",
       "      <td>NaN</td>\n",
       "      <td>NaN</td>\n",
       "      <td>NaN</td>\n",
       "      <td>NaN</td>\n",
       "      <td>NaN</td>\n",
       "      <td>NaN</td>\n",
       "      <td>NaN</td>\n",
       "      <td>NaN</td>\n",
       "      <td>NaN</td>\n",
       "      <td>NaN</td>\n",
       "      <td>NaN</td>\n",
       "      <td>NaN</td>\n",
       "      <td>NaN</td>\n",
       "      <td>NaN</td>\n",
       "      <td>NaN</td>\n",
       "    </tr>\n",
       "    <tr>\n",
       "      <th>11558</th>\n",
       "      <td>NaN</td>\n",
       "      <td>NaN</td>\n",
       "      <td>NaN</td>\n",
       "      <td>NaN</td>\n",
       "      <td>NaN</td>\n",
       "      <td>NaN</td>\n",
       "      <td>NaN</td>\n",
       "      <td>NaN</td>\n",
       "      <td>NaN</td>\n",
       "      <td>NaN</td>\n",
       "      <td>NaN</td>\n",
       "      <td>NaN</td>\n",
       "      <td>NaN</td>\n",
       "      <td>NaN</td>\n",
       "      <td>NaN</td>\n",
       "      <td>NaN</td>\n",
       "    </tr>\n",
       "    <tr>\n",
       "      <th>5477</th>\n",
       "      <td>NaN</td>\n",
       "      <td>NaN</td>\n",
       "      <td>NaN</td>\n",
       "      <td>NaN</td>\n",
       "      <td>NaN</td>\n",
       "      <td>NaN</td>\n",
       "      <td>NaN</td>\n",
       "      <td>NaN</td>\n",
       "      <td>NaN</td>\n",
       "      <td>NaN</td>\n",
       "      <td>NaN</td>\n",
       "      <td>NaN</td>\n",
       "      <td>NaN</td>\n",
       "      <td>NaN</td>\n",
       "      <td>NaN</td>\n",
       "      <td>NaN</td>\n",
       "    </tr>\n",
       "    <tr>\n",
       "      <th>2770</th>\n",
       "      <td>NaN</td>\n",
       "      <td>NaN</td>\n",
       "      <td>NaN</td>\n",
       "      <td>NaN</td>\n",
       "      <td>NaN</td>\n",
       "      <td>NaN</td>\n",
       "      <td>NaN</td>\n",
       "      <td>NaN</td>\n",
       "      <td>NaN</td>\n",
       "      <td>NaN</td>\n",
       "      <td>NaN</td>\n",
       "      <td>NaN</td>\n",
       "      <td>NaN</td>\n",
       "      <td>NaN</td>\n",
       "      <td>NaN</td>\n",
       "      <td>NaN</td>\n",
       "    </tr>\n",
       "  </tbody>\n",
       "</table>\n",
       "</div>"
      ],
      "text/plain": [
       "      Make Model  Year Engine Fuel Type  Engine HP  Engine Cylinders  \\\n",
       "7119   NaN   NaN   NaN              NaN        NaN               NaN   \n",
       "1947   NaN   NaN   NaN              NaN        NaN               NaN   \n",
       "7074   NaN   NaN   NaN              NaN        NaN               NaN   \n",
       "10114  NaN   NaN   NaN              NaN        NaN               NaN   \n",
       "11145  NaN   NaN   NaN              NaN        NaN               NaN   \n",
       "7671   NaN   NaN   NaN              NaN        NaN               NaN   \n",
       "5312   NaN   NaN   NaN              NaN        NaN               NaN   \n",
       "11558  NaN   NaN   NaN              NaN        NaN               NaN   \n",
       "5477   NaN   NaN   NaN              NaN        NaN               NaN   \n",
       "2770   NaN   NaN   NaN              NaN        NaN               NaN   \n",
       "\n",
       "      Transmission Type Driven_Wheels  Number of Doors Market Category  \\\n",
       "7119                NaN           NaN              NaN             NaN   \n",
       "1947                NaN           NaN              NaN             NaN   \n",
       "7074                NaN           NaN              NaN             NaN   \n",
       "10114               NaN           NaN              NaN             NaN   \n",
       "11145               NaN           NaN              NaN             NaN   \n",
       "7671                NaN           NaN              NaN             NaN   \n",
       "5312                NaN           NaN              NaN             NaN   \n",
       "11558               NaN           NaN              NaN             NaN   \n",
       "5477                NaN           NaN              NaN             NaN   \n",
       "2770                NaN           NaN              NaN             NaN   \n",
       "\n",
       "      Vehicle Size Vehicle Style  highway MPG  city mpg  Popularity  MSRP  \n",
       "7119           NaN           NaN          NaN       NaN         NaN   NaN  \n",
       "1947           NaN           NaN          NaN       NaN         NaN   NaN  \n",
       "7074           NaN           NaN          NaN       NaN         NaN   NaN  \n",
       "10114          NaN           NaN          NaN       NaN         NaN   NaN  \n",
       "11145          NaN           NaN          NaN       NaN         NaN   NaN  \n",
       "7671           NaN           NaN          NaN       NaN         NaN   NaN  \n",
       "5312           NaN           NaN          NaN       NaN         NaN   NaN  \n",
       "11558          NaN           NaN          NaN       NaN         NaN   NaN  \n",
       "5477           NaN           NaN          NaN       NaN         NaN   NaN  \n",
       "2770           NaN           NaN          NaN       NaN         NaN   NaN  "
      ]
     },
     "execution_count": 7,
     "metadata": {},
     "output_type": "execute_result"
    }
   ],
   "source": [
    "df[df.isnull()==1].sample(10)"
   ]
  },
  {
   "cell_type": "code",
   "execution_count": 8,
   "id": "03b3eeba",
   "metadata": {},
   "outputs": [],
   "source": [
    "df.dropna(inplace=True)\n"
   ]
  },
  {
   "cell_type": "code",
   "execution_count": 9,
   "id": "e4d4aed3",
   "metadata": {},
   "outputs": [
    {
     "data": {
      "text/plain": [
       "Make                 0\n",
       "Model                0\n",
       "Year                 0\n",
       "Engine Fuel Type     0\n",
       "Engine HP            0\n",
       "Engine Cylinders     0\n",
       "Transmission Type    0\n",
       "Driven_Wheels        0\n",
       "Number of Doors      0\n",
       "Market Category      0\n",
       "Vehicle Size         0\n",
       "Vehicle Style        0\n",
       "highway MPG          0\n",
       "city mpg             0\n",
       "Popularity           0\n",
       "MSRP                 0\n",
       "dtype: int64"
      ]
     },
     "execution_count": 9,
     "metadata": {},
     "output_type": "execute_result"
    }
   ],
   "source": [
    "df.isnull().sum()"
   ]
  },
  {
   "cell_type": "markdown",
   "id": "e2d27735",
   "metadata": {},
   "source": [
    "# checking and droping the duplicates"
   ]
  },
  {
   "cell_type": "code",
   "execution_count": 10,
   "id": "032d913b",
   "metadata": {},
   "outputs": [
    {
     "data": {
      "text/plain": [
       "349"
      ]
     },
     "execution_count": 10,
     "metadata": {},
     "output_type": "execute_result"
    }
   ],
   "source": [
    "df.duplicated().sum()"
   ]
  },
  {
   "cell_type": "code",
   "execution_count": 11,
   "id": "512e1982",
   "metadata": {},
   "outputs": [],
   "source": [
    "df=df.drop_duplicates()"
   ]
  },
  {
   "cell_type": "code",
   "execution_count": 12,
   "id": "fe6cad65",
   "metadata": {},
   "outputs": [
    {
     "data": {
      "text/plain": [
       "0"
      ]
     },
     "execution_count": 12,
     "metadata": {},
     "output_type": "execute_result"
    }
   ],
   "source": [
    "df.duplicated().sum()"
   ]
  },
  {
   "cell_type": "code",
   "execution_count": 13,
   "id": "2e0c2160",
   "metadata": {},
   "outputs": [
    {
     "data": {
      "text/plain": [
       "(7735, 16)"
      ]
     },
     "execution_count": 13,
     "metadata": {},
     "output_type": "execute_result"
    }
   ],
   "source": [
    "df.shape"
   ]
  },
  {
   "cell_type": "code",
   "execution_count": 14,
   "id": "49b481cf",
   "metadata": {
    "scrolled": true
   },
   "outputs": [
    {
     "data": {
      "text/plain": [
       "Index(['Make', 'Model', 'Year', 'Engine Fuel Type', 'Engine HP',\n",
       "       'Engine Cylinders', 'Transmission Type', 'Driven_Wheels',\n",
       "       'Number of Doors', 'Market Category', 'Vehicle Size', 'Vehicle Style',\n",
       "       'highway MPG', 'city mpg', 'Popularity', 'MSRP'],\n",
       "      dtype='object')"
      ]
     },
     "execution_count": 14,
     "metadata": {},
     "output_type": "execute_result"
    }
   ],
   "source": [
    "df.columns"
   ]
  },
  {
   "cell_type": "markdown",
   "id": "a77d327c",
   "metadata": {},
   "source": [
    "# handling the outliers of each integer or float columns"
   ]
  },
  {
   "cell_type": "code",
   "execution_count": 15,
   "id": "886e10db",
   "metadata": {},
   "outputs": [
    {
     "data": {
      "text/plain": [
       "<Axes: >"
      ]
     },
     "execution_count": 15,
     "metadata": {},
     "output_type": "execute_result"
    },
    {
     "data": {
      "image/png": "[encoded data removed]",
      "text/plain": [
       "<Figure size 640x480 with 1 Axes>"
      ]
     },
     "metadata": {},
     "output_type": "display_data"
    }
   ],
   "source": [
    "sns.boxplot(df['Engine Cylinders'])"
   ]
  },
  {
   "cell_type": "code",
   "execution_count": 16,
   "id": "ef5a6d66",
   "metadata": {},
   "outputs": [
    {
     "data": {
      "text/plain": [
       "(array([  13.,   26., 2887., 2982.,    0., 1532.,   65.,  227.,    0.,\n",
       "           3.]),\n",
       " array([ 0. ,  1.6,  3.2,  4.8,  6.4,  8. ,  9.6, 11.2, 12.8, 14.4, 16. ]),\n",
       " <BarContainer object of 10 artists>)"
      ]
     },
     "execution_count": 16,
     "metadata": {},
     "output_type": "execute_result"
    },
    {
     "data": {
      "image/png": "[encoded data removed]",
      "text/plain": [
       "<Figure size 640x480 with 1 Axes>"
      ]
     },
     "metadata": {},
     "output_type": "display_data"
    }
   ],
   "source": [
    "plt.hist(df['Engine Cylinders'])"
   ]
  },
  {
   "cell_type": "code",
   "execution_count": 17,
   "id": "e6f87f92",
   "metadata": {},
   "outputs": [
    {
     "data": {
      "text/plain": [
       "Index(['Year', 'Engine HP', 'Engine Cylinders', 'Number of Doors',\n",
       "       'highway MPG', 'city mpg', 'Popularity', 'MSRP'],\n",
       "      dtype='object')"
      ]
     },
     "execution_count": 17,
     "metadata": {},
     "output_type": "execute_result"
    }
   ],
   "source": [
    "df._get_numeric_data().columns"
   ]
  },
  {
   "cell_type": "code",
   "execution_count": 18,
   "id": "08ac78a9",
   "metadata": {},
   "outputs": [
    {
     "data": {
      "text/plain": [
       "array([ 335.,  300.,  230.,  320.,  172.,  160.,  130.,  158.,  240.,\n",
       "        248.,  162.,  217.,  184.,  295.,  140.,  155.,  114.,  100.,\n",
       "        241.,  180.,  177.,  228.,  121.,  148.,  194.,  218.,  161.,\n",
       "        292.,  250.,  255.,  222.,   82.,  134.,  306.,  400.,  425.,\n",
       "        350.,  332.,  268.,  282.,  275.,  201.,  442.,  562.,  597.,\n",
       "        237.,  445.,  443.,  302.,  322.,  315.,  101.,  135.,  485.,\n",
       "        238.,  515.,  543.,  631.,  604.,  620.,  611.,  661.,  402.,\n",
       "        389.,  532.,  641.,  535.,  153.,  144.,  188.,  372.,  108.,\n",
       "        168.,  190.,  205.,  200.,  227.,  165.,  173.,  220.,  210.,\n",
       "        280.,  207.,  265.,  260.,  290.,  285.,  390.,  225.,  170.,\n",
       "        185.,  150.,  430.,  520.,  560.,  475.,  500.,  540.,  370.,\n",
       "        580.,  420.,  345.,  208.,  181.,  236.,  186.,  252.,  310.,\n",
       "        333.,  340.,  450.,  281.,  288.,  138.,  137.,  271.,  195.,\n",
       "        196.,  212.,  278.,  480.,  600.,  375.,  198.,  270.,  503.,\n",
       "        456.,  317.,  235.,  385.,  303.,   63.,  321.,  272.,  464.,\n",
       "        202.,  283.,  700.,  720.,  750.,  107.,  293.,  143.,  245.,\n",
       "        330.,  530.,  451.,  329.,  469.,  362.,  276.,  553.,  453.,\n",
       "        483.,  323.,  426.,  505.,  455.,  650.,  305.,  605.,  440.,\n",
       "        570.,  325.,  707.,   62.,   92.,  110.,  174.,  621.,  510.,\n",
       "        429.,  536.,  355.,  382.,  577.,  552.,  626.,  616.,  572.,\n",
       "        521.,  567.,  582.,  178.,  460.,  164.,  215.,  192.,  224.,\n",
       "        239.,  404.,  318.,  556.,  640.,  146.,  244.,  273.,  563.,\n",
       "        152.,  141.,  435.,  182.,  550.,  360.,  349.,  166.,  189.,\n",
       "        197.,  660.,  156.,  403.,  297.,   81.,  257.,  365.,  136.,\n",
       "        113.,  731.,  651.,  120.,  287.,  203.,  231.,  416.,  343.,\n",
       "        348.,  328.,  145.,  298.,  106.,  219.,  221.,  311.,  361.,\n",
       "        256.,  415.,  274.,  449.,  395.,  401.,  454.,  444.,  338.,\n",
       "        342.,  467.,  545.,  565.,  301.,  263.,  242.,   93.,  187.,\n",
       "        610.,  111.,   98.,   94.,  204.,  211.,   73.,   66.,  304.,\n",
       "        291.,  381.,  424.,  253.,  386.,  359.,  438.,  232.,  383.,\n",
       "        518.,  493.,  259.,  132.,  523.,   55.,   79.,   74.,   78.,\n",
       "        191.,  592.,  632.,  670.,   88.,  167.,  380.,  573.,  199.,\n",
       "        175.,  284.,   99.,  118.,  525.,  254.,  470.,  176.,  279.,\n",
       "        126.,  127.,  377.,  223.,  308.,  316.,  264.,  526.,  662.,\n",
       "        557.,  617.,  583.,  622.,  193.,   84.,  354.,  179.,  206.,\n",
       "        133.,  171.,  568.,  109., 1001.,  645.,  490.,  624.,  103.,\n",
       "        128.,  410.,  394.])"
      ]
     },
     "execution_count": 18,
     "metadata": {},
     "output_type": "execute_result"
    }
   ],
   "source": [
    "df['Engine HP'].unique()"
   ]
  },
  {
   "cell_type": "code",
   "execution_count": 19,
   "id": "402c9e1d",
   "metadata": {},
   "outputs": [
    {
     "data": {
      "text/plain": [
       "array([ 6.,  4.,  5.,  8., 12.,  0., 10.,  3., 16.])"
      ]
     },
     "execution_count": 19,
     "metadata": {},
     "output_type": "execute_result"
    }
   ],
   "source": [
    "df['Engine Cylinders'].unique()"
   ]
  },
  {
   "cell_type": "code",
   "execution_count": 20,
   "id": "210b70e5",
   "metadata": {},
   "outputs": [
    {
     "data": {
      "text/plain": [
       "array([2., 4., 3.])"
      ]
     },
     "execution_count": 20,
     "metadata": {},
     "output_type": "execute_result"
    }
   ],
   "source": [
    "df['Number of Doors'].unique()"
   ]
  },
  {
   "cell_type": "code",
   "execution_count": 21,
   "id": "47afca6a",
   "metadata": {},
   "outputs": [
    {
     "data": {
      "text/plain": [
       "array([3916, 3105,  819,  617, 1013, 2009,  870,  586,  436, 2774,  113,\n",
       "        416,   67, 1715, 2031,  376,  549, 1439, 2202, 1624,  520, 5657,\n",
       "         26, 1385, 1851, 1158,   61,  210,  640,  873,    2, 1720,  204,\n",
       "        535,   86,  238,  454,  259,  258,  613,  155,  190,  105,   21,\n",
       "        481,  130,  820], dtype=int64)"
      ]
     },
     "execution_count": 21,
     "metadata": {},
     "output_type": "execute_result"
    }
   ],
   "source": [
    "df['Popularity'].unique()"
   ]
  },
  {
   "cell_type": "code",
   "execution_count": 22,
   "id": "2a4be083",
   "metadata": {},
   "outputs": [
    {
     "name": "stdout",
     "output_type": "stream",
     "text": [
      "<class 'pandas.core.frame.DataFrame'>\n",
      "Index: 7735 entries, 0 to 11913\n",
      "Data columns (total 16 columns):\n",
      " #   Column             Non-Null Count  Dtype  \n",
      "---  ------             --------------  -----  \n",
      " 0   Make               7735 non-null   object \n",
      " 1   Model              7735 non-null   object \n",
      " 2   Year               7735 non-null   int64  \n",
      " 3   Engine Fuel Type   7735 non-null   object \n",
      " 4   Engine HP          7735 non-null   float64\n",
      " 5   Engine Cylinders   7735 non-null   float64\n",
      " 6   Transmission Type  7735 non-null   object \n",
      " 7   Driven_Wheels      7735 non-null   object \n",
      " 8   Number of Doors    7735 non-null   float64\n",
      " 9   Market Category    7735 non-null   object \n",
      " 10  Vehicle Size       7735 non-null   object \n",
      " 11  Vehicle Style      7735 non-null   object \n",
      " 12  highway MPG        7735 non-null   int64  \n",
      " 13  city mpg           7735 non-null   int64  \n",
      " 14  Popularity         7735 non-null   int64  \n",
      " 15  MSRP               7735 non-null   int64  \n",
      "dtypes: float64(3), int64(5), object(8)\n",
      "memory usage: 1.3+ MB\n"
     ]
    }
   ],
   "source": [
    "df.info()"
   ]
  },
  {
   "cell_type": "code",
   "execution_count": 23,
   "id": "f74e9221",
   "metadata": {},
   "outputs": [
    {
     "data": {
      "text/plain": [
       "<Axes: >"
      ]
     },
     "execution_count": 23,
     "metadata": {},
     "output_type": "execute_result"
    },
    {
     "data": {
      "image/png": "[encoded data removed]",
      "text/plain": [
       "<Figure size 640x480 with 1 Axes>"
      ]
     },
     "metadata": {},
     "output_type": "display_data"
    }
   ],
   "source": [
    "sns.boxplot(df['highway MPG'])"
   ]
  },
  {
   "cell_type": "code",
   "execution_count": 24,
   "id": "75201953",
   "metadata": {},
   "outputs": [
    {
     "data": {
      "text/plain": [
       "<Axes: >"
      ]
     },
     "execution_count": 24,
     "metadata": {},
     "output_type": "execute_result"
    },
    {
     "data": {
      "image/png": "[encoded data removed]",
      "text/plain": [
       "<Figure size 640x480 with 1 Axes>"
      ]
     },
     "metadata": {},
     "output_type": "display_data"
    }
   ],
   "source": [
    "sns.boxplot(df['city mpg'])"
   ]
  },
  {
   "cell_type": "code",
   "execution_count": 25,
   "id": "b532d7b7",
   "metadata": {},
   "outputs": [
    {
     "data": {
      "text/plain": [
       "<Axes: >"
      ]
     },
     "execution_count": 25,
     "metadata": {},
     "output_type": "execute_result"
    },
    {
     "data": {
      "image/png": "[encoded data removed]",
      "text/plain": [
       "<Figure size 640x480 with 1 Axes>"
      ]
     },
     "metadata": {},
     "output_type": "display_data"
    }
   ],
   "source": [
    "sns.boxplot(df['Popularity'])"
   ]
  },
  {
   "cell_type": "code",
   "execution_count": 26,
   "id": "b8ef0f1b",
   "metadata": {},
   "outputs": [
    {
     "data": {
      "text/plain": [
       "<Axes: >"
      ]
     },
     "execution_count": 26,
     "metadata": {},
     "output_type": "execute_result"
    },
    {
     "data": {
      "image/png": "[encoded data removed]",
      "text/plain": [
       "<Figure size 640x480 with 1 Axes>"
      ]
     },
     "metadata": {},
     "output_type": "display_data"
    }
   ],
   "source": [
    "sns.boxplot(df['MSRP'])"
   ]
  },
  {
   "cell_type": "code",
   "execution_count": 27,
   "id": "f7e43861",
   "metadata": {},
   "outputs": [
    {
     "data": {
      "text/plain": [
       "array([46135, 40650, 36350, ..., 50620, 50920, 28995], dtype=int64)"
      ]
     },
     "execution_count": 27,
     "metadata": {},
     "output_type": "execute_result"
    }
   ],
   "source": [
    "df['MSRP'].values"
   ]
  },
  {
   "cell_type": "code",
   "execution_count": 28,
   "id": "1fb6cd02",
   "metadata": {
    "scrolled": true
   },
   "outputs": [
    {
     "data": {
      "text/html": [
       "<div>\n",
       "<style scoped>\n",
       "    .dataframe tbody tr th:only-of-type {\n",
       "        vertical-align: middle;\n",
       "    }\n",
       "\n",
       "    .dataframe tbody tr th {\n",
       "        vertical-align: top;\n",
       "    }\n",
       "\n",
       "    .dataframe thead th {\n",
       "        text-align: right;\n",
       "    }\n",
       "</style>\n",
       "<table border=\"1\" class=\"dataframe\">\n",
       "  <thead>\n",
       "    <tr style=\"text-align: right;\">\n",
       "      <th></th>\n",
       "      <th>Year</th>\n",
       "      <th>Engine HP</th>\n",
       "      <th>Engine Cylinders</th>\n",
       "      <th>Number of Doors</th>\n",
       "      <th>highway MPG</th>\n",
       "      <th>city mpg</th>\n",
       "      <th>Popularity</th>\n",
       "      <th>MSRP</th>\n",
       "    </tr>\n",
       "  </thead>\n",
       "  <tbody>\n",
       "    <tr>\n",
       "      <th>count</th>\n",
       "      <td>7735.00000</td>\n",
       "      <td>7735.000000</td>\n",
       "      <td>7735.000000</td>\n",
       "      <td>7735.000000</td>\n",
       "      <td>7735.00000</td>\n",
       "      <td>7735.000000</td>\n",
       "      <td>7735.000000</td>\n",
       "      <td>7.735000e+03</td>\n",
       "    </tr>\n",
       "    <tr>\n",
       "      <th>mean</th>\n",
       "      <td>2012.14958</td>\n",
       "      <td>277.632062</td>\n",
       "      <td>5.825469</td>\n",
       "      <td>3.421332</td>\n",
       "      <td>26.52980</td>\n",
       "      <td>19.468649</td>\n",
       "      <td>1513.098772</td>\n",
       "      <td>5.102826e+04</td>\n",
       "    </tr>\n",
       "    <tr>\n",
       "      <th>std</th>\n",
       "      <td>6.23167</td>\n",
       "      <td>115.529955</td>\n",
       "      <td>1.895593</td>\n",
       "      <td>0.895054</td>\n",
       "      <td>7.78492</td>\n",
       "      <td>7.231534</td>\n",
       "      <td>1429.197317</td>\n",
       "      <td>7.153777e+04</td>\n",
       "    </tr>\n",
       "    <tr>\n",
       "      <th>min</th>\n",
       "      <td>1990.00000</td>\n",
       "      <td>55.000000</td>\n",
       "      <td>0.000000</td>\n",
       "      <td>2.000000</td>\n",
       "      <td>12.00000</td>\n",
       "      <td>7.000000</td>\n",
       "      <td>2.000000</td>\n",
       "      <td>2.000000e+03</td>\n",
       "    </tr>\n",
       "    <tr>\n",
       "      <th>25%</th>\n",
       "      <td>2010.00000</td>\n",
       "      <td>194.000000</td>\n",
       "      <td>4.000000</td>\n",
       "      <td>2.000000</td>\n",
       "      <td>22.00000</td>\n",
       "      <td>16.000000</td>\n",
       "      <td>520.000000</td>\n",
       "      <td>2.622500e+04</td>\n",
       "    </tr>\n",
       "    <tr>\n",
       "      <th>50%</th>\n",
       "      <td>2015.00000</td>\n",
       "      <td>270.000000</td>\n",
       "      <td>6.000000</td>\n",
       "      <td>4.000000</td>\n",
       "      <td>26.00000</td>\n",
       "      <td>18.000000</td>\n",
       "      <td>1013.000000</td>\n",
       "      <td>3.560000e+04</td>\n",
       "    </tr>\n",
       "    <tr>\n",
       "      <th>75%</th>\n",
       "      <td>2016.00000</td>\n",
       "      <td>325.000000</td>\n",
       "      <td>6.000000</td>\n",
       "      <td>4.000000</td>\n",
       "      <td>30.00000</td>\n",
       "      <td>22.000000</td>\n",
       "      <td>2009.000000</td>\n",
       "      <td>4.947750e+04</td>\n",
       "    </tr>\n",
       "    <tr>\n",
       "      <th>max</th>\n",
       "      <td>2017.00000</td>\n",
       "      <td>1001.000000</td>\n",
       "      <td>16.000000</td>\n",
       "      <td>4.000000</td>\n",
       "      <td>354.00000</td>\n",
       "      <td>137.000000</td>\n",
       "      <td>5657.000000</td>\n",
       "      <td>2.065902e+06</td>\n",
       "    </tr>\n",
       "  </tbody>\n",
       "</table>\n",
       "</div>"
      ],
      "text/plain": [
       "             Year    Engine HP  Engine Cylinders  Number of Doors  \\\n",
       "count  7735.00000  7735.000000       7735.000000      7735.000000   \n",
       "mean   2012.14958   277.632062          5.825469         3.421332   \n",
       "std       6.23167   115.529955          1.895593         0.895054   \n",
       "min    1990.00000    55.000000          0.000000         2.000000   \n",
       "25%    2010.00000   194.000000          4.000000         2.000000   \n",
       "50%    2015.00000   270.000000          6.000000         4.000000   \n",
       "75%    2016.00000   325.000000          6.000000         4.000000   \n",
       "max    2017.00000  1001.000000         16.000000         4.000000   \n",
       "\n",
       "       highway MPG     city mpg   Popularity          MSRP  \n",
       "count   7735.00000  7735.000000  7735.000000  7.735000e+03  \n",
       "mean      26.52980    19.468649  1513.098772  5.102826e+04  \n",
       "std        7.78492     7.231534  1429.197317  7.153777e+04  \n",
       "min       12.00000     7.000000     2.000000  2.000000e+03  \n",
       "25%       22.00000    16.000000   520.000000  2.622500e+04  \n",
       "50%       26.00000    18.000000  1013.000000  3.560000e+04  \n",
       "75%       30.00000    22.000000  2009.000000  4.947750e+04  \n",
       "max      354.00000   137.000000  5657.000000  2.065902e+06  "
      ]
     },
     "execution_count": 28,
     "metadata": {},
     "output_type": "execute_result"
    }
   ],
   "source": [
    "df.describe()"
   ]
  },
  {
   "cell_type": "code",
   "execution_count": 29,
   "id": "5a87b1c3",
   "metadata": {},
   "outputs": [],
   "source": [
    "#the highway mpg(miles per gallon) mean is 26 but max is 354 so it means its the outlier\n",
    "#we check the city mpg and so on"
   ]
  },
  {
   "cell_type": "code",
   "execution_count": 30,
   "id": "b3b8fee6",
   "metadata": {},
   "outputs": [],
   "source": [
    "Q1 = df['Engine Cylinders'].quantile(0.25)\n",
    "Q3 = df['Engine Cylinders'].quantile(0.75)\n",
    "IQR = Q3 - Q1\n",
    "\n",
    "df['Engine Cylinders'] = df['Engine Cylinders'][~((df['Engine Cylinders'] < (Q1 - 1.5 * IQR)) |(df['Engine Cylinders'] > (Q3 + 1.5 * IQR)))]"
   ]
  },
  {
   "cell_type": "code",
   "execution_count": 31,
   "id": "088aad7a",
   "metadata": {},
   "outputs": [
    {
     "data": {
      "text/plain": [
       "(7735, 16)"
      ]
     },
     "execution_count": 31,
     "metadata": {},
     "output_type": "execute_result"
    }
   ],
   "source": [
    "df.shape"
   ]
  },
  {
   "cell_type": "code",
   "execution_count": 32,
   "id": "f7f156eb",
   "metadata": {},
   "outputs": [],
   "source": [
    "Q1 = df['highway MPG'].quantile(0.25)\n",
    "Q3 = df['highway MPG'].quantile(0.75)\n",
    "IQR = Q3 - Q1\n",
    "\n",
    "df['highway MPG'] = df['highway MPG'][~((df['Engine Cylinders'] < (Q1 - 1.5 * IQR)) |(df['highway MPG'] > (Q3 + 1.5 * IQR)))]"
   ]
  },
  {
   "cell_type": "code",
   "execution_count": 33,
   "id": "0e5c8246",
   "metadata": {},
   "outputs": [
    {
     "data": {
      "text/plain": [
       "(7735, 16)"
      ]
     },
     "execution_count": 33,
     "metadata": {},
     "output_type": "execute_result"
    }
   ],
   "source": [
    "df.shape"
   ]
  },
  {
   "cell_type": "code",
   "execution_count": 34,
   "id": "a73cbfca",
   "metadata": {},
   "outputs": [
    {
     "data": {
      "text/plain": [
       "<Axes: >"
      ]
     },
     "execution_count": 34,
     "metadata": {},
     "output_type": "execute_result"
    },
    {
     "data": {
      "image/png": "[encoded data removed]",
      "text/plain": [
       "<Figure size 640x480 with 1 Axes>"
      ]
     },
     "metadata": {},
     "output_type": "display_data"
    }
   ],
   "source": [
    "sns.boxplot(df['highway MPG'])"
   ]
  },
  {
   "cell_type": "code",
   "execution_count": 35,
   "id": "705d5f1b",
   "metadata": {},
   "outputs": [],
   "source": [
    "Q1 = df['city mpg'].quantile(0.25)\n",
    "Q3 = df['city mpg'].quantile(0.75)\n",
    "IQR = Q3 - Q1\n",
    "\n",
    "df['city mpg'] = df['city mpg'][~((df['city mpg'] < (Q1 - 1.5 * IQR)) |(df['city mpg'] > (Q3 + 1.5 * IQR)))]"
   ]
  },
  {
   "cell_type": "code",
   "execution_count": 36,
   "id": "d0807372",
   "metadata": {},
   "outputs": [
    {
     "data": {
      "text/plain": [
       "<Axes: >"
      ]
     },
     "execution_count": 36,
     "metadata": {},
     "output_type": "execute_result"
    },
    {
     "data": {
      "image/png": "[encoded data removed]",
      "text/plain": [
       "<Figure size 640x480 with 1 Axes>"
      ]
     },
     "metadata": {},
     "output_type": "display_data"
    }
   ],
   "source": [
    "sns.boxplot(df['city mpg'])"
   ]
  },
  {
   "cell_type": "code",
   "execution_count": 37,
   "id": "d5165fb8",
   "metadata": {},
   "outputs": [],
   "source": [
    "Q1 = df['Popularity'].quantile(0.25)\n",
    "Q3 = df['Popularity'].quantile(0.75)\n",
    "IQR = Q3 - Q1\n",
    "\n",
    "df['Popularity'] = df['Popularity'][~((df['Popularity'] < (Q1 - 1.5 * IQR)) |(df['Popularity'] > (Q3 + 1.5 * IQR)))]"
   ]
  },
  {
   "cell_type": "code",
   "execution_count": 38,
   "id": "68da7844",
   "metadata": {},
   "outputs": [
    {
     "data": {
      "text/plain": [
       "<Axes: >"
      ]
     },
     "execution_count": 38,
     "metadata": {},
     "output_type": "execute_result"
    },
    {
     "data": {
      "image/png": "[encoded data removed]",
      "text/plain": [
       "<Figure size 640x480 with 1 Axes>"
      ]
     },
     "metadata": {},
     "output_type": "display_data"
    }
   ],
   "source": [
    "sns.boxplot(df['Popularity'])"
   ]
  },
  {
   "cell_type": "code",
   "execution_count": 39,
   "id": "e05095e1",
   "metadata": {},
   "outputs": [],
   "source": [
    "Q1 = df['MSRP'].quantile(0.25)\n",
    "Q3 = df['MSRP'].quantile(0.75)\n",
    "IQR = Q3 - Q1\n",
    "\n",
    "df['MSRP'] = df['MSRP'][~((df['MSRP'] < (Q1 - 1.5 * IQR)) |(df['MSRP'] > (Q3 + 1.5 * IQR)))]"
   ]
  },
  {
   "cell_type": "code",
   "execution_count": 40,
   "id": "1cd88fe3",
   "metadata": {},
   "outputs": [
    {
     "data": {
      "text/plain": [
       "<Axes: >"
      ]
     },
     "execution_count": 40,
     "metadata": {},
     "output_type": "execute_result"
    },
    {
     "data": {
      "image/png": "[encoded data removed]",
      "text/plain": [
       "<Figure size 640x480 with 1 Axes>"
      ]
     },
     "metadata": {},
     "output_type": "display_data"
    }
   ],
   "source": [
    "sns.boxplot(df['MSRP'])"
   ]
  },
  {
   "cell_type": "code",
   "execution_count": 41,
   "id": "2a2d8805",
   "metadata": {},
   "outputs": [
    {
     "data": {
      "text/plain": [
       "(7735, 16)"
      ]
     },
     "execution_count": 41,
     "metadata": {},
     "output_type": "execute_result"
    }
   ],
   "source": [
    "df.shape"
   ]
  },
  {
   "cell_type": "markdown",
   "id": "0017e318",
   "metadata": {},
   "source": [
    "# now thw dataframe is clear from any type of outliers"
   ]
  },
  {
   "cell_type": "code",
   "execution_count": 42,
   "id": "2357808a",
   "metadata": {},
   "outputs": [
    {
     "data": {
      "text/plain": [
       "Index(['Make', 'Model', 'Year', 'Engine Fuel Type', 'Engine HP',\n",
       "       'Engine Cylinders', 'Transmission Type', 'Driven_Wheels',\n",
       "       'Number of Doors', 'Market Category', 'Vehicle Size', 'Vehicle Style',\n",
       "       'highway MPG', 'city mpg', 'Popularity', 'MSRP'],\n",
       "      dtype='object')"
      ]
     },
     "execution_count": 42,
     "metadata": {},
     "output_type": "execute_result"
    }
   ],
   "source": [
    "df.columns"
   ]
  },
  {
   "cell_type": "markdown",
   "id": "53e57729",
   "metadata": {},
   "source": [
    "# from now we can do the exploratory data analysis or feature engineering and visualizations"
   ]
  },
  {
   "cell_type": "code",
   "execution_count": 43,
   "id": "710f3db6",
   "metadata": {},
   "outputs": [
    {
     "data": {
      "text/html": [
       "<div>\n",
       "<style scoped>\n",
       "    .dataframe tbody tr th:only-of-type {\n",
       "        vertical-align: middle;\n",
       "    }\n",
       "\n",
       "    .dataframe tbody tr th {\n",
       "        vertical-align: top;\n",
       "    }\n",
       "\n",
       "    .dataframe thead th {\n",
       "        text-align: right;\n",
       "    }\n",
       "</style>\n",
       "<table border=\"1\" class=\"dataframe\">\n",
       "  <thead>\n",
       "    <tr style=\"text-align: right;\">\n",
       "      <th></th>\n",
       "      <th>Year</th>\n",
       "      <th>Engine HP</th>\n",
       "      <th>Engine Cylinders</th>\n",
       "      <th>Number of Doors</th>\n",
       "      <th>highway MPG</th>\n",
       "      <th>city mpg</th>\n",
       "      <th>Popularity</th>\n",
       "      <th>MSRP</th>\n",
       "    </tr>\n",
       "  </thead>\n",
       "  <tbody>\n",
       "    <tr>\n",
       "      <th>count</th>\n",
       "      <td>7735.00000</td>\n",
       "      <td>7735.000000</td>\n",
       "      <td>7427.000000</td>\n",
       "      <td>7735.000000</td>\n",
       "      <td>295.000000</td>\n",
       "      <td>7494.000000</td>\n",
       "      <td>7250.000000</td>\n",
       "      <td>6936.000000</td>\n",
       "    </tr>\n",
       "    <tr>\n",
       "      <th>mean</th>\n",
       "      <td>2012.14958</td>\n",
       "      <td>277.632062</td>\n",
       "      <td>5.606301</td>\n",
       "      <td>3.421332</td>\n",
       "      <td>18.203390</td>\n",
       "      <td>18.642247</td>\n",
       "      <td>1235.886069</td>\n",
       "      <td>34695.966984</td>\n",
       "    </tr>\n",
       "    <tr>\n",
       "      <th>std</th>\n",
       "      <td>6.23167</td>\n",
       "      <td>115.529955</td>\n",
       "      <td>1.508340</td>\n",
       "      <td>0.895054</td>\n",
       "      <td>2.371742</td>\n",
       "      <td>4.429435</td>\n",
       "      <td>976.477873</td>\n",
       "      <td>16705.415779</td>\n",
       "    </tr>\n",
       "    <tr>\n",
       "      <th>min</th>\n",
       "      <td>1990.00000</td>\n",
       "      <td>55.000000</td>\n",
       "      <td>3.000000</td>\n",
       "      <td>2.000000</td>\n",
       "      <td>12.000000</td>\n",
       "      <td>7.000000</td>\n",
       "      <td>2.000000</td>\n",
       "      <td>2000.000000</td>\n",
       "    </tr>\n",
       "    <tr>\n",
       "      <th>25%</th>\n",
       "      <td>2010.00000</td>\n",
       "      <td>194.000000</td>\n",
       "      <td>4.000000</td>\n",
       "      <td>2.000000</td>\n",
       "      <td>16.000000</td>\n",
       "      <td>16.000000</td>\n",
       "      <td>481.000000</td>\n",
       "      <td>25195.000000</td>\n",
       "    </tr>\n",
       "    <tr>\n",
       "      <th>50%</th>\n",
       "      <td>2015.00000</td>\n",
       "      <td>270.000000</td>\n",
       "      <td>6.000000</td>\n",
       "      <td>4.000000</td>\n",
       "      <td>19.000000</td>\n",
       "      <td>18.000000</td>\n",
       "      <td>873.000000</td>\n",
       "      <td>33570.000000</td>\n",
       "    </tr>\n",
       "    <tr>\n",
       "      <th>75%</th>\n",
       "      <td>2016.00000</td>\n",
       "      <td>325.000000</td>\n",
       "      <td>6.000000</td>\n",
       "      <td>4.000000</td>\n",
       "      <td>20.000000</td>\n",
       "      <td>21.000000</td>\n",
       "      <td>1851.000000</td>\n",
       "      <td>43550.000000</td>\n",
       "    </tr>\n",
       "    <tr>\n",
       "      <th>max</th>\n",
       "      <td>2017.00000</td>\n",
       "      <td>1001.000000</td>\n",
       "      <td>8.000000</td>\n",
       "      <td>4.000000</td>\n",
       "      <td>22.000000</td>\n",
       "      <td>31.000000</td>\n",
       "      <td>3916.000000</td>\n",
       "      <td>84325.000000</td>\n",
       "    </tr>\n",
       "  </tbody>\n",
       "</table>\n",
       "</div>"
      ],
      "text/plain": [
       "             Year    Engine HP  Engine Cylinders  Number of Doors  \\\n",
       "count  7735.00000  7735.000000       7427.000000      7735.000000   \n",
       "mean   2012.14958   277.632062          5.606301         3.421332   \n",
       "std       6.23167   115.529955          1.508340         0.895054   \n",
       "min    1990.00000    55.000000          3.000000         2.000000   \n",
       "25%    2010.00000   194.000000          4.000000         2.000000   \n",
       "50%    2015.00000   270.000000          6.000000         4.000000   \n",
       "75%    2016.00000   325.000000          6.000000         4.000000   \n",
       "max    2017.00000  1001.000000          8.000000         4.000000   \n",
       "\n",
       "       highway MPG     city mpg   Popularity          MSRP  \n",
       "count   295.000000  7494.000000  7250.000000   6936.000000  \n",
       "mean     18.203390    18.642247  1235.886069  34695.966984  \n",
       "std       2.371742     4.429435   976.477873  16705.415779  \n",
       "min      12.000000     7.000000     2.000000   2000.000000  \n",
       "25%      16.000000    16.000000   481.000000  25195.000000  \n",
       "50%      19.000000    18.000000   873.000000  33570.000000  \n",
       "75%      20.000000    21.000000  1851.000000  43550.000000  \n",
       "max      22.000000    31.000000  3916.000000  84325.000000  "
      ]
     },
     "execution_count": 43,
     "metadata": {},
     "output_type": "execute_result"
    }
   ],
   "source": [
    "df.describe()"
   ]
  },
  {
   "cell_type": "code",
   "execution_count": 45,
   "id": "2ebbc9af",
   "metadata": {},
   "outputs": [],
   "source": [
    "df.to_csv('cleaned_car_dataset.csv')"
   ]
  },
  {
   "cell_type": "code",
   "execution_count": null,
   "id": "1859adea",
   "metadata": {},
   "outputs": [],
   "source": []
  },
  {
   "cell_type": "code",
   "execution_count": null,
   "id": "e1e3dd80",
   "metadata": {},
   "outputs": [],
   "source": []
  }
 ],
 "metadata": {
  "kernelspec": {
   "display_name": "Python 3 (ipykernel)",
   "language": "python",
   "name": "python3"
  },
  "language_info": {
   "codemirror_mode": {
    "name": "ipython",
    "version": 3
   },
   "file_extension": ".py",
   "mimetype": "text/x-python",
   "name": "python",
   "nbconvert_exporter": "python",
   "pygments_lexer": "ipython3",
   "version": "3.11.5"
  }
 },
 "nbformat": 4,
 "nbformat_minor": 5
}
